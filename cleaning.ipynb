{
 "cells": [
  {
   "cell_type": "code",
   "execution_count": 1,
   "metadata": {},
   "outputs": [],
   "source": [
    "import sys\n",
    "import os\n",
    "import tarfile"
   ]
  },
  {
   "cell_type": "code",
   "execution_count": 4,
   "metadata": {},
   "outputs": [],
   "source": [
    "from auxiliary import organize"
   ]
  },
  {
   "cell_type": "code",
   "execution_count": 5,
   "metadata": {},
   "outputs": [],
   "source": [
    "# Set a dictionary that contains the taxonomy classification data and corresponding sha256 values\n",
    "# sha256sum generated sha256 keys\n",
    "files_to_dl = \\\n",
    "    {'file1': {'url': 'http://smass.mit.edu/data/smass/Bus.Taxonomy.txt',\n",
    "               'sha256': '0ce970a6972dd7c49d512848b9736d00b621c9d6395a035bd1b4f3780d4b56c6'},\n",
    "     'file2': {'url': 'http://smass.mit.edu/data/smass/smass2data.tar.gz',\n",
    "               'sha256': 'dacf575eb1403c08bdfbffcd5dbfe12503a588e09b04ed19cc4572584a57fa97'}}"
   ]
  },
  {
   "cell_type": "code",
   "execution_count": 6,
   "metadata": {},
   "outputs": [],
   "source": [
    "for _, dl_val in files_to_dl.items():\n",
    "\n",
    "    organize.download_file(\"asteroid_taxonomy/data/lvl0/\", dl_val['url'])\n",
    "    assert organize.comp_sha256(f\"asteroid_taxonomy/data/lvl0/{dl_val['url'].split(\"/\")[-1]}\") == \\\n",
    "        dl_val['sha256']\n"
   ]
  },
  {
   "cell_type": "code",
   "execution_count": 8,
   "metadata": {},
   "outputs": [
    {
     "name": "stderr",
     "output_type": "stream",
     "text": [
      "/tmp/ipykernel_240715/3663590508.py:6: DeprecationWarning: Python 3.14 will, by default, filter extracted tar archives and reject files or modify their metadata. Use the filter argument to control this behavior.\n",
      "  tar.extractall(os.path.join(core_path, \"data/lvl0/\"))\n"
     ]
    }
   ],
   "source": [
    "# untar the spectra data\n",
    "core_path = \"asteroid_taxonomy/\"\n",
    "\n",
    "tar = tarfile.open(os.path.join(core_path, \"data/lvl0/\", \"smass2data.tar.gz\"),\n",
    "                   \"r:gz\")\n",
    "tar.extractall(os.path.join(core_path, \"data/lvl0/\"))\n",
    "tar.close()"
   ]
  }
 ],
 "metadata": {
  "kernelspec": {
   "display_name": "dpp",
   "language": "python",
   "name": "python3"
  },
  "language_info": {
   "codemirror_mode": {
    "name": "ipython",
    "version": 3
   },
   "file_extension": ".py",
   "mimetype": "text/x-python",
   "name": "python",
   "nbconvert_exporter": "python",
   "pygments_lexer": "ipython3",
   "version": "3.12.7"
  }
 },
 "nbformat": 4,
 "nbformat_minor": 2
}
