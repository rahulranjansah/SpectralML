{
 "cells": [
  {
   "cell_type": "code",
   "execution_count": 17,
   "metadata": {},
   "outputs": [],
   "source": [
    "# Import standard libraries\n",
    "import os\n",
    "\n",
    "# Import installed libraries\n",
    "from matplotlib import pyplot as plt\n",
    "import numpy as np\n",
    "import pandas as pd\n",
    "\n",
    "# Scikit-Learn stuff\n",
    "import sklearn\n",
    "from sklearn import preprocessing\n",
    "from sklearn.model_selection import StratifiedShuffleSplit\n",
    "from sklearn.metrics import ConfusionMatrixDisplay, confusion_matrix\n",
    "\n",
    "# Keras\n",
    "import tensorflow.keras as keras\n",
    "import tensorflow as tf\n",
    "\n",
    "\n",
    "# Set the dark mode and the font size and style\n",
    "plt.style.use('dark_background')\n",
    "plt.rc('font', family='serif', size=18)"
   ]
  },
  {
   "cell_type": "code",
   "execution_count": 4,
   "metadata": {},
   "outputs": [],
   "source": [
    "# Load the level 2 asteroid data\n",
    "core_path = \"../asteroid_taxonomy\"\n",
    "asteroids_df = pd.read_pickle(os.path.join(core_path, \"data/lvl2/\", \"asteroids.pkl\"))\n"
   ]
  },
  {
   "cell_type": "code",
   "execution_count": 5,
   "metadata": {},
   "outputs": [],
   "source": [
    "# Allocate the spectra to one array and the classes to another one and expand dimensions Convulational network\n",
    "asteroids_X = np.array([k[\"Reflectance_norm550nm\"].tolist() for k in asteroids_df[\"SpectrumDF\"]])\n",
    "asteroids_y = np.array(asteroids_df[\"Main_Group\"].to_list())\n",
    "\n",
    "asteroids_X = np.expand_dims(asteroids_X, axis=2)"
   ]
  },
  {
   "cell_type": "code",
   "execution_count": 6,
   "metadata": {},
   "outputs": [
    {
     "name": "stdout",
     "output_type": "stream",
     "text": [
      "One-Hot-Vector [1, 0, 0, 0] corresponds to the Main Group: C\n",
      "One-Hot-Vector [0, 1, 0, 0] corresponds to the Main Group: Other\n",
      "One-Hot-Vector [0, 0, 1, 0] corresponds to the Main Group: S\n",
      "One-Hot-Vector [0, 0, 0, 1] corresponds to the Main Group: X\n"
     ]
    }
   ],
   "source": [
    "# one hot encoder for probabilities, label encoding, and simple stratified shuffling split\n",
    "# LOOC may be computationally expensive\n",
    "label_encoder = preprocessing.OneHotEncoder(sparse_output=True)\n",
    "asteroids_oh_y = label_encoder.fit_transform(asteroids_y.reshape(-1,1)).toarray()\n",
    "\n",
    "# how are things encoded list rotation by k index# handling imbalanced datasets\n",
    "\n",
    "from sklearn.utils.class_weight import compute_sample_weight\n",
    "sample_weight = compute_sample_weight(\"balanced\", y=y_train)\n",
    "oh_init = [1, 0, 0, 0]\n",
    "for n in range(4):\n",
    "    oh_class = oh_init[-n:] + oh_init[:-n]\n",
    "    org_class = label_encoder.inverse_transform([oh_class])\n",
    "    print(f\"One-Hot-Vector {oh_class} corresponds to the Main Group: {org_class[0][0]}\")\n",
    "\n",
    "# In this example we create a single test-training split with a ratio of 0.8 / 0.2\n",
    "sss = StratifiedShuffleSplit(n_splits=1, test_size=0.2)\n",
    "\n",
    "# Create a simple, single train / test split\n",
    "for train_index, test_index in sss.split(asteroids_X, asteroids_y):\n",
    "\n",
    "    X_train, X_test = asteroids_X[train_index], asteroids_X[test_index]\n",
    "    y_train, y_test = asteroids_oh_y[train_index], asteroids_oh_y[test_index]"
   ]
  },
  {
   "cell_type": "code",
   "execution_count": 7,
   "metadata": {},
   "outputs": [],
   "source": [
    "# handling imbalanced datasets version sklearn instead of manual weights\n",
    "\n",
    "from sklearn.utils.class_weight import compute_sample_weight\n",
    "sample_weight = compute_sample_weight(\"balanced\", y=y_train)"
   ]
  },
  {
   "cell_type": "code",
   "execution_count": 9,
   "metadata": {},
   "outputs": [
    {
     "name": "stderr",
     "output_type": "stream",
     "text": [
      "W0000 00:00:1732549647.235829  560301 gpu_device.cc:2344] Cannot dlopen some GPU libraries. Please make sure the missing libraries mentioned above are installed properly if you would like to use GPU. Follow the guide at https://www.tensorflow.org/install/gpu for how to download and setup the required libraries for your platform.\n",
      "Skipping registering GPU devices...\n"
     ]
    }
   ],
   "source": [
    "# create_model and callback early stopping\n",
    "import keras_tuner as kt\n",
    "\n",
    "# Early Stopping callback\n",
    "es_callback = keras.callbacks.EarlyStopping(monitor='val_loss', patience=10)\n",
    "\n",
    "# Get the number of inputs\n",
    "n_inputs = asteroids_X.shape[1]\n",
    "\n",
    "# We move our normalizer layers outside of the function every rows\n",
    "normalizer = keras.layers.Normalization(axis=1)\n",
    "normalizer.adapt(X_train)"
   ]
  },
  {
   "cell_type": "code",
   "execution_count": 10,
   "metadata": {},
   "outputs": [],
   "source": [
    "# creating the model for training with dropout for extra fine tuning\n",
    "\n",
    "def create_model(hp):\n",
    "\n",
    "    # Create now a simple Dense based network\n",
    "    input_layer = keras.Input(shape=(n_inputs, 1))\n",
    "\n",
    "    norm_layer = normalizer(input_layer)\n",
    "\n",
    "\n",
    "    hidden_layer = keras.layers.Conv1D(filters=hp.Int(\"1st_filters\",\n",
    "                                                      min_value=8,\n",
    "                                                      max_value=32,\n",
    "                                                      step=8),\n",
    "                                       activation=\"relu\",\n",
    "                                       kernel_size=hp.Int(\"1st_kernel_size\",\n",
    "                                                          min_value=3,\n",
    "                                                          max_value=7,\n",
    "                                                          step=1))(norm_layer)\n",
    "    hidden_layer = keras.layers.MaxPooling1D(pool_size=2)(hidden_layer)\n",
    "\n",
    "    hidden_layer = keras.layers.Conv1D(filters=hp.Int(\"2nd_filters\",\n",
    "                                                      min_value=16,\n",
    "                                                      max_value=128,\n",
    "                                                      step=16),\n",
    "                                       activation=\"relu\",\n",
    "                                       kernel_size=hp.Int(\"2nd_kernel_size\",\n",
    "                                                          min_value=3,\n",
    "                                                          max_value=7,\n",
    "                                                          step=1))(norm_layer)\n",
    "    hidden_layer = keras.layers.MaxPooling1D(pool_size=2)(hidden_layer)\n",
    "\n",
    "    hidden_layer = keras.layers.Flatten()(hidden_layer)\n",
    "    hidden_layer = keras.layers.Dense(hp.Int(\"units\", min_value=8, max_value=64, step=8),\n",
    "                                      activation=\"relu\")(hidden_layer)\n",
    "\n",
    "    if hp.Boolean(\"dropout\"):\n",
    "        hidden_layer = keras.layers.Dropout(hp.Float(\"dr_rate\",\n",
    "                                                     min_value=0.1,\n",
    "                                                     max_value=0.5,\n",
    "                                                     step=0.1))(hidden_layer)\n",
    "\n",
    "    output_layer = keras.layers.Dense(4, activation=\"softmax\")(hidden_layer)\n",
    "\n",
    "    # Create now the model\n",
    "    model = keras.models.Model(inputs=input_layer, outputs=output_layer)\n",
    "\n",
    "    # Compile the model. Since we have one-hot encoded classes we use the categorical crossentropy\n",
    "    model.compile(optimizer='adam', loss='categorical_crossentropy')\n",
    "\n",
    "    return model"
   ]
  },
  {
   "cell_type": "code",
   "execution_count": 11,
   "metadata": {},
   "outputs": [
    {
     "name": "stderr",
     "output_type": "stream",
     "text": [
      "/home/astavak/.pyenv/versions/3.11.0/envs/venv3.11/lib/python3.11/site-packages/keras/src/saving/saving_lib.py:719: UserWarning: Skipping variable loading for optimizer 'adam', because it has 2 variables whereas the saved optimizer has 14 variables. \n",
      "  saveable.load_own_variables(weights_store.get(inner_path))\n"
     ]
    }
   ],
   "source": [
    "# tuner and optimizie the val_loss search\n",
    "tuner  = kt.RandomSearch(create_model,\n",
    "                         objective=\"val_loss\",\n",
    "                         max_trials=25)\n",
    "\n",
    "end_epoch = 400\n",
    "batch_size = 64\n",
    "\n",
    "# searching for a best solution now\n",
    "tuner.search(X_train,\n",
    "             y_train,\n",
    "             batch_size=batch_size,\n",
    "             verbose=0,\n",
    "             validation_split=0.25, epochs=end_epoch,\n",
    "             sample_weight=sample_weight,\n",
    "             callbacks=[es_callback])\n",
    "\n",
    "model = tuner.get_best_models()[0]"
   ]
  },
  {
   "cell_type": "code",
   "execution_count": 12,
   "metadata": {},
   "outputs": [
    {
     "name": "stdout",
     "output_type": "stream",
     "text": [
      "Results summary\n",
      "Results in ./untitled_project\n",
      "Showing 10 best trials\n",
      "Objective(name=\"val_loss\", direction=\"min\")\n",
      "\n",
      "Trial 05 summary\n",
      "Hyperparameters:\n",
      "1st_filters: 24\n",
      "1st_kernel_size: 5\n",
      "2nd_filters: 80\n",
      "2nd_kernel_size: 5\n",
      "units: 16\n",
      "dropout: False\n",
      "dr_rate: 0.1\n",
      "Score: 0.028088264167308807\n",
      "\n",
      "Trial 24 summary\n",
      "Hyperparameters:\n",
      "1st_filters: 8\n",
      "1st_kernel_size: 6\n",
      "2nd_filters: 96\n",
      "2nd_kernel_size: 4\n",
      "units: 24\n",
      "dropout: False\n",
      "dr_rate: 0.1\n",
      "Score: 0.02979143336415291\n",
      "\n",
      "Trial 16 summary\n",
      "Hyperparameters:\n",
      "1st_filters: 16\n",
      "1st_kernel_size: 3\n",
      "2nd_filters: 112\n",
      "2nd_kernel_size: 5\n",
      "units: 56\n",
      "dropout: True\n",
      "dr_rate: 0.1\n",
      "Score: 0.030772365629673004\n",
      "\n",
      "Trial 04 summary\n",
      "Hyperparameters:\n",
      "1st_filters: 16\n",
      "1st_kernel_size: 6\n",
      "2nd_filters: 128\n",
      "2nd_kernel_size: 3\n",
      "units: 40\n",
      "dropout: False\n",
      "dr_rate: 0.5\n",
      "Score: 0.0333574153482914\n",
      "\n",
      "Trial 19 summary\n",
      "Hyperparameters:\n",
      "1st_filters: 16\n",
      "1st_kernel_size: 4\n",
      "2nd_filters: 112\n",
      "2nd_kernel_size: 3\n",
      "units: 16\n",
      "dropout: False\n",
      "dr_rate: 0.1\n",
      "Score: 0.03802261874079704\n",
      "\n",
      "Trial 03 summary\n",
      "Hyperparameters:\n",
      "1st_filters: 32\n",
      "1st_kernel_size: 7\n",
      "2nd_filters: 128\n",
      "2nd_kernel_size: 5\n",
      "units: 56\n",
      "dropout: True\n",
      "dr_rate: 0.2\n",
      "Score: 0.038746416568756104\n",
      "\n",
      "Trial 00 summary\n",
      "Hyperparameters:\n",
      "1st_filters: 8\n",
      "1st_kernel_size: 5\n",
      "2nd_filters: 112\n",
      "2nd_kernel_size: 3\n",
      "units: 40\n",
      "dropout: True\n",
      "dr_rate: 0.1\n",
      "Score: 0.041826169937849045\n",
      "\n",
      "Trial 08 summary\n",
      "Hyperparameters:\n",
      "1st_filters: 8\n",
      "1st_kernel_size: 7\n",
      "2nd_filters: 48\n",
      "2nd_kernel_size: 6\n",
      "units: 64\n",
      "dropout: False\n",
      "dr_rate: 0.4\n",
      "Score: 0.04357333853840828\n",
      "\n",
      "Trial 12 summary\n",
      "Hyperparameters:\n",
      "1st_filters: 8\n",
      "1st_kernel_size: 3\n",
      "2nd_filters: 48\n",
      "2nd_kernel_size: 7\n",
      "units: 40\n",
      "dropout: True\n",
      "dr_rate: 0.4\n",
      "Score: 0.04366234317421913\n",
      "\n",
      "Trial 01 summary\n",
      "Hyperparameters:\n",
      "1st_filters: 16\n",
      "1st_kernel_size: 4\n",
      "2nd_filters: 96\n",
      "2nd_kernel_size: 3\n",
      "units: 32\n",
      "dropout: True\n",
      "dr_rate: 0.1\n",
      "Score: 0.04522739723324776\n"
     ]
    }
   ],
   "source": [
    "tuner.results_summary()"
   ]
  },
  {
   "cell_type": "code",
   "execution_count": 13,
   "metadata": {},
   "outputs": [
    {
     "data": {
      "text/html": [
       "<pre style=\"white-space:pre;overflow-x:auto;line-height:normal;font-family:Menlo,'DejaVu Sans Mono',consolas,'Courier New',monospace\"><span style=\"font-weight: bold\">Model: \"functional\"</span>\n",
       "</pre>\n"
      ],
      "text/plain": [
       "\u001b[1mModel: \"functional\"\u001b[0m\n"
      ]
     },
     "metadata": {},
     "output_type": "display_data"
    },
    {
     "data": {
      "text/html": [
       "<pre style=\"white-space:pre;overflow-x:auto;line-height:normal;font-family:Menlo,'DejaVu Sans Mono',consolas,'Courier New',monospace\">┏━━━━━━━━━━━━━━━━━━━━━━━━━━━━━━━━━┳━━━━━━━━━━━━━━━━━━━━━━━━┳━━━━━━━━━━━━━━━┓\n",
       "┃<span style=\"font-weight: bold\"> Layer (type)                    </span>┃<span style=\"font-weight: bold\"> Output Shape           </span>┃<span style=\"font-weight: bold\">       Param # </span>┃\n",
       "┡━━━━━━━━━━━━━━━━━━━━━━━━━━━━━━━━━╇━━━━━━━━━━━━━━━━━━━━━━━━╇━━━━━━━━━━━━━━━┩\n",
       "│ input_layer (<span style=\"color: #0087ff; text-decoration-color: #0087ff\">InputLayer</span>)        │ (<span style=\"color: #00d7ff; text-decoration-color: #00d7ff\">None</span>, <span style=\"color: #00af00; text-decoration-color: #00af00\">49</span>, <span style=\"color: #00af00; text-decoration-color: #00af00\">1</span>)          │             <span style=\"color: #00af00; text-decoration-color: #00af00\">0</span> │\n",
       "├─────────────────────────────────┼────────────────────────┼───────────────┤\n",
       "│ normalization (<span style=\"color: #0087ff; text-decoration-color: #0087ff\">Normalization</span>)   │ (<span style=\"color: #00d7ff; text-decoration-color: #00d7ff\">None</span>, <span style=\"color: #00af00; text-decoration-color: #00af00\">49</span>, <span style=\"color: #00af00; text-decoration-color: #00af00\">1</span>)          │            <span style=\"color: #00af00; text-decoration-color: #00af00\">99</span> │\n",
       "├─────────────────────────────────┼────────────────────────┼───────────────┤\n",
       "│ conv1d_1 (<span style=\"color: #0087ff; text-decoration-color: #0087ff\">Conv1D</span>)               │ (<span style=\"color: #00d7ff; text-decoration-color: #00d7ff\">None</span>, <span style=\"color: #00af00; text-decoration-color: #00af00\">45</span>, <span style=\"color: #00af00; text-decoration-color: #00af00\">80</span>)         │           <span style=\"color: #00af00; text-decoration-color: #00af00\">480</span> │\n",
       "├─────────────────────────────────┼────────────────────────┼───────────────┤\n",
       "│ max_pooling1d_1 (<span style=\"color: #0087ff; text-decoration-color: #0087ff\">MaxPooling1D</span>)  │ (<span style=\"color: #00d7ff; text-decoration-color: #00d7ff\">None</span>, <span style=\"color: #00af00; text-decoration-color: #00af00\">22</span>, <span style=\"color: #00af00; text-decoration-color: #00af00\">80</span>)         │             <span style=\"color: #00af00; text-decoration-color: #00af00\">0</span> │\n",
       "├─────────────────────────────────┼────────────────────────┼───────────────┤\n",
       "│ flatten (<span style=\"color: #0087ff; text-decoration-color: #0087ff\">Flatten</span>)               │ (<span style=\"color: #00d7ff; text-decoration-color: #00d7ff\">None</span>, <span style=\"color: #00af00; text-decoration-color: #00af00\">1760</span>)           │             <span style=\"color: #00af00; text-decoration-color: #00af00\">0</span> │\n",
       "├─────────────────────────────────┼────────────────────────┼───────────────┤\n",
       "│ dense (<span style=\"color: #0087ff; text-decoration-color: #0087ff\">Dense</span>)                   │ (<span style=\"color: #00d7ff; text-decoration-color: #00d7ff\">None</span>, <span style=\"color: #00af00; text-decoration-color: #00af00\">16</span>)             │        <span style=\"color: #00af00; text-decoration-color: #00af00\">28,176</span> │\n",
       "├─────────────────────────────────┼────────────────────────┼───────────────┤\n",
       "│ dense_1 (<span style=\"color: #0087ff; text-decoration-color: #0087ff\">Dense</span>)                 │ (<span style=\"color: #00d7ff; text-decoration-color: #00d7ff\">None</span>, <span style=\"color: #00af00; text-decoration-color: #00af00\">4</span>)              │            <span style=\"color: #00af00; text-decoration-color: #00af00\">68</span> │\n",
       "└─────────────────────────────────┴────────────────────────┴───────────────┘\n",
       "</pre>\n"
      ],
      "text/plain": [
       "┏━━━━━━━━━━━━━━━━━━━━━━━━━━━━━━━━━┳━━━━━━━━━━━━━━━━━━━━━━━━┳━━━━━━━━━━━━━━━┓\n",
       "┃\u001b[1m \u001b[0m\u001b[1mLayer (type)                   \u001b[0m\u001b[1m \u001b[0m┃\u001b[1m \u001b[0m\u001b[1mOutput Shape          \u001b[0m\u001b[1m \u001b[0m┃\u001b[1m \u001b[0m\u001b[1m      Param #\u001b[0m\u001b[1m \u001b[0m┃\n",
       "┡━━━━━━━━━━━━━━━━━━━━━━━━━━━━━━━━━╇━━━━━━━━━━━━━━━━━━━━━━━━╇━━━━━━━━━━━━━━━┩\n",
       "│ input_layer (\u001b[38;5;33mInputLayer\u001b[0m)        │ (\u001b[38;5;45mNone\u001b[0m, \u001b[38;5;34m49\u001b[0m, \u001b[38;5;34m1\u001b[0m)          │             \u001b[38;5;34m0\u001b[0m │\n",
       "├─────────────────────────────────┼────────────────────────┼───────────────┤\n",
       "│ normalization (\u001b[38;5;33mNormalization\u001b[0m)   │ (\u001b[38;5;45mNone\u001b[0m, \u001b[38;5;34m49\u001b[0m, \u001b[38;5;34m1\u001b[0m)          │            \u001b[38;5;34m99\u001b[0m │\n",
       "├─────────────────────────────────┼────────────────────────┼───────────────┤\n",
       "│ conv1d_1 (\u001b[38;5;33mConv1D\u001b[0m)               │ (\u001b[38;5;45mNone\u001b[0m, \u001b[38;5;34m45\u001b[0m, \u001b[38;5;34m80\u001b[0m)         │           \u001b[38;5;34m480\u001b[0m │\n",
       "├─────────────────────────────────┼────────────────────────┼───────────────┤\n",
       "│ max_pooling1d_1 (\u001b[38;5;33mMaxPooling1D\u001b[0m)  │ (\u001b[38;5;45mNone\u001b[0m, \u001b[38;5;34m22\u001b[0m, \u001b[38;5;34m80\u001b[0m)         │             \u001b[38;5;34m0\u001b[0m │\n",
       "├─────────────────────────────────┼────────────────────────┼───────────────┤\n",
       "│ flatten (\u001b[38;5;33mFlatten\u001b[0m)               │ (\u001b[38;5;45mNone\u001b[0m, \u001b[38;5;34m1760\u001b[0m)           │             \u001b[38;5;34m0\u001b[0m │\n",
       "├─────────────────────────────────┼────────────────────────┼───────────────┤\n",
       "│ dense (\u001b[38;5;33mDense\u001b[0m)                   │ (\u001b[38;5;45mNone\u001b[0m, \u001b[38;5;34m16\u001b[0m)             │        \u001b[38;5;34m28,176\u001b[0m │\n",
       "├─────────────────────────────────┼────────────────────────┼───────────────┤\n",
       "│ dense_1 (\u001b[38;5;33mDense\u001b[0m)                 │ (\u001b[38;5;45mNone\u001b[0m, \u001b[38;5;34m4\u001b[0m)              │            \u001b[38;5;34m68\u001b[0m │\n",
       "└─────────────────────────────────┴────────────────────────┴───────────────┘\n"
      ]
     },
     "metadata": {},
     "output_type": "display_data"
    },
    {
     "data": {
      "text/html": [
       "<pre style=\"white-space:pre;overflow-x:auto;line-height:normal;font-family:Menlo,'DejaVu Sans Mono',consolas,'Courier New',monospace\"><span style=\"font-weight: bold\"> Total params: </span><span style=\"color: #00af00; text-decoration-color: #00af00\">28,823</span> (112.59 KB)\n",
       "</pre>\n"
      ],
      "text/plain": [
       "\u001b[1m Total params: \u001b[0m\u001b[38;5;34m28,823\u001b[0m (112.59 KB)\n"
      ]
     },
     "metadata": {},
     "output_type": "display_data"
    },
    {
     "data": {
      "text/html": [
       "<pre style=\"white-space:pre;overflow-x:auto;line-height:normal;font-family:Menlo,'DejaVu Sans Mono',consolas,'Courier New',monospace\"><span style=\"font-weight: bold\"> Trainable params: </span><span style=\"color: #00af00; text-decoration-color: #00af00\">28,724</span> (112.20 KB)\n",
       "</pre>\n"
      ],
      "text/plain": [
       "\u001b[1m Trainable params: \u001b[0m\u001b[38;5;34m28,724\u001b[0m (112.20 KB)\n"
      ]
     },
     "metadata": {},
     "output_type": "display_data"
    },
    {
     "data": {
      "text/html": [
       "<pre style=\"white-space:pre;overflow-x:auto;line-height:normal;font-family:Menlo,'DejaVu Sans Mono',consolas,'Courier New',monospace\"><span style=\"font-weight: bold\"> Non-trainable params: </span><span style=\"color: #00af00; text-decoration-color: #00af00\">99</span> (400.00 B)\n",
       "</pre>\n"
      ],
      "text/plain": [
       "\u001b[1m Non-trainable params: \u001b[0m\u001b[38;5;34m99\u001b[0m (400.00 B)\n"
      ]
     },
     "metadata": {},
     "output_type": "display_data"
    }
   ],
   "source": [
    "model.summary()"
   ]
  },
  {
   "cell_type": "code",
   "execution_count": 15,
   "metadata": {},
   "outputs": [
    {
     "data": {
      "text/plain": [
       "'05'"
      ]
     },
     "execution_count": 15,
     "metadata": {},
     "output_type": "execute_result"
    }
   ],
   "source": [
    "# best trial\n",
    "tuner.oracle.get_best_trials()[0].trial_id"
   ]
  },
  {
   "cell_type": "code",
   "execution_count": null,
   "metadata": {},
   "outputs": [],
   "source": []
  },
  {
   "cell_type": "code",
   "execution_count": 18,
   "metadata": {},
   "outputs": [
    {
     "name": "stdout",
     "output_type": "stream",
     "text": [
      "\u001b[1m9/9\u001b[0m \u001b[32m━━━━━━━━━━━━━━━━━━━━\u001b[0m\u001b[37m\u001b[0m \u001b[1m0s\u001b[0m 930us/step\n"
     ]
    },
    {
     "data": {
      "image/png": "[encoded data removed]",
      "text/plain": [
       "<Figure size 640x480 with 2 Axes>"
      ]
     },
     "metadata": {},
     "output_type": "display_data"
    },
    {
     "name": "stdout",
     "output_type": "stream",
     "text": [
      "F1 Score: 0.93\n"
     ]
    }
   ],
   "source": [
    "# Compute class probabilities\n",
    "y_test_prop_pred = model.predict(X_test)\n",
    "\n",
    "# Compute the corresponding one-hot classes\n",
    "y_test_oh_pred = np.zeros_like(y_test_prop_pred)\n",
    "y_test_oh_pred[np.arange(len(y_test_prop_pred)), y_test_prop_pred.argmax(1)] = 1\n",
    "\n",
    "# # Re-transform the classes now!\n",
    "asteroid_classes_test = label_encoder.inverse_transform(y_test).reshape(1, -1)[0]\n",
    "asteroid_classes_test_pred = label_encoder.inverse_transform(y_test_oh_pred).reshape(1, -1)[0]\n",
    "\n",
    "# Compute the confusion matrix\n",
    "conf_mat = confusion_matrix(asteroid_classes_test,\n",
    "                            asteroid_classes_test_pred,\n",
    "                            labels=[\"C\", \"S\", \"X\", \"Other\"])\n",
    "\n",
    "disp = ConfusionMatrixDisplay(confusion_matrix=conf_mat,\n",
    "                              display_labels=[\"C\", \"S\", \"X\", \"Other\"])\n",
    "disp.plot()\n",
    "plt.show()\n",
    "\n",
    "# A combined score\n",
    "f1_score = round(sklearn.metrics.f1_score(asteroid_classes_test,\n",
    "                                          asteroid_classes_test_pred,\n",
    "                                          average=\"weighted\"), 3)\n",
    "print(f\"F1 Score: {f1_score}\")"
   ]
  }
 ],
 "metadata": {
  "kernelspec": {
   "display_name": "venv3.11",
   "language": "python",
   "name": "python3"
  },
  "language_info": {
   "codemirror_mode": {
    "name": "ipython",
    "version": 3
   },
   "file_extension": ".py",
   "mimetype": "text/x-python",
   "name": "python",
   "nbconvert_exporter": "python",
   "pygments_lexer": "ipython3",
   "version": "3.11.0"
  }
 },
 "nbformat": 4,
 "nbformat_minor": 2
}
